{
 "cells": [
  {
   "cell_type": "markdown",
   "metadata": {},
   "source": [
    "# Homework 8"
   ]
  },
  {
   "cell_type": "markdown",
   "metadata": {},
   "source": [
    "## Standard form LP barrier method\n",
    "In the following three exercises, you will implement a barrier method for solving the standard\n",
    "form LP\n",
    "\\begin{align}\n",
    "  \\text{minimize} & \\quad c^\\top x \\\\\n",
    "  \\text{subject to} & \\quad Ax = b \\\\\n",
    "  & \\quad  x \\succeq 0\n",
    "\\end{align}\n",
    "with variable $x \\in \\mathbb{R}^n, A \\in \\mathbb{R}^{m \\times n}, m < n$. Throughout this exercise we will\n",
    "assume that A is full rank, and the sublevel sets $\\{x | Ax = b, x \\succeq 0, c^\\top x \\leq \\gamma\\}$ are all\n",
    "bounded. (If this is not the case, the centering problem is unbounded below.)"
   ]
  },
  {
   "cell_type": "markdown",
   "metadata": {},
   "source": [
    "### Centering Step\n",
    "Centering step. Implement Newton’s method for solving the centering problem\n",
    "\\begin{align}\n",
    "  \\text{minimize} & \\quad c^\\top x - \\sum_{i=1}^n \\log x_i \\\\\n",
    "  \\text{subject to} & \\quad Ax = b\n",
    "\\end{align}\n",
    "with variable $x$, given a strictly feasible starting point $x_0$. <br> <br>\n",
    "Your code should accept $A,b,c, \\text{ and } x_0$, and return $x^*$, the primal optimal point, $\\nu^*$, a dual optimal point, and the number of Newton steps executed. <br> <br>\n",
    "Use the block elimination method to compute the Newton step. (You can also compute\n",
    "the Newton step via the KKT system, and compare the result to the Newton step\n",
    "computed via block elimination. The two steps should be close, but if any $x_i$\n",
    "is very small, you might get a warning about the condition number of the KKT matrix.) <br> <br>\n",
    "Plot $\\lambda^2/2$ versus iteration $k$, for various problem data and initial points, to verify that\n",
    "your implementation gives asymptotic quadratic convergence. As stopping criterion,\n",
    "you can use $\\lambda^2/2 \\leq 10^{-6}$. Experiment with varying the algorithm parameters $\\alpha$ and $\\beta$,\n",
    "observing the effect on the total number of Newton steps required, for a fixed problem\n",
    "instance. Check that your computed $x^*, \\nu^*$\n",
    "(nearly) satisfy the KKT conditions. <br> <br>\n",
    "To generate some random problem data (i.e., $A, b, c, x_0$), we recommend the following\n",
    "approach. First, generate $A$ randomly. (You might want to check that it has full rank.)\n",
    "Then generate a random positive vector $x_0$, and take $b = Ax_0$. (This ensures that $x_0$\n",
    "is strictly feasible.) The parameter $c$ can be chosen randomly. To be sure the sublevel\n",
    "sets are bounded, you can add a row to $A$ with all positive elements. If you want to\n",
    "be able to repeat a run with the same problem data, be sure to set the state for the\n",
    "uniform and normal random number generators.\n",
    "Here are some hints that may be useful.\n",
    "\n",
    "* We recommend computing $\\lambda^2/2$ using the formula $\\lambda^2 = - \\Delta x_{nt}^\\top \\nabla f(x)$. You don’t really need $\\lambda$ for anything; you can work with $\\lambda^2$ instead. (This is important for reasons described below.)\n",
    "* There can be small numerical errors in the Newton step $\\Delta x_{nt}$ that you compute. When $x$ is nearly optimal, the computed value of $\\lambda$ can actually be (slightly) negative. If you take the squareroot to get $\\lambda$, you’ll get a complex number, and you’ll never recover. Moreover, your line search will never exit. However, this only happens when $x$ is nearly optimal. So if you exit on the condition $\\lambda^2/2 \\leq 10^{-6}$, everything will be fine, even when the computed value of $\\lambda^2$ is negative.\n",
    "* For the line search, you must first multiply the step size $t$ by $\\beta$ until $x + t \\Delta x_{nt}$ is feasible (i.e., strictly positive). If you don’t, when you evaluate $f$ you’ll be taking the logarithm of negative numbers, and you’ll never recover.\n"
   ]
  },
  {
   "cell_type": "code",
   "execution_count": 8,
   "metadata": {},
   "outputs": [
    {
     "data": {
      "text/plain": [
       "((100,), (100, 200))"
      ]
     },
     "execution_count": 8,
     "metadata": {},
     "output_type": "execute_result"
    }
   ],
   "source": [
    "import numpy as np\n",
    "\n",
    "#Problem dimensions\n",
    "m = 100\n",
    "n = 200\n",
    "\n",
    "#Problem parameters\n",
    "def create_problem_params(m=100,n=200):\n",
    "    A = np.random.randn(m-1,n) * 10\n",
    "    A = np.r_[A,np.random.rand(n).reshape(1,-1)]\n",
    "    x_0 = np.random.rand(n)\n",
    "    b = A @ x_0\n",
    "    c = np.random.rand(n) * 20 + 5\n",
    "\n",
    "    return A, x_0, b, c\n",
    "\n",
    "A, x_0, b, c = create_problem_params()\n",
    "\n",
    "b.shape, A.shape"
   ]
  },
  {
   "cell_type": "code",
   "execution_count": 9,
   "metadata": {},
   "outputs": [
    {
     "name": "stdout",
     "output_type": "stream",
     "text": [
      "f(x) = 1679.6428948237976\n",
      "g(x) shape:  (200,)\n",
      "H(x) shape:  (200, 200)\n"
     ]
    }
   ],
   "source": [
    "#Functions and derivatives\n",
    "def f(x:np.array, c:np.array):\n",
    "    x = np.maximum(x, 1e-8)\n",
    "    return c.T @ x - np.sum(np.log(x))\n",
    "\n",
    "def g(x:np.array, c:np.array):\n",
    "    return c - 1/x\n",
    "\n",
    "def H(x:np.array,c:np.array = None):\n",
    "    H = np.diag((x**(-2)))\n",
    "    eI = np.identity(x.shape[0]) * 10e-9\n",
    "    return H + eI\n",
    "\n",
    "def H_inv(x: np.array, c:np.array = None):\n",
    "    H_inv = np.diag((x**(2)))\n",
    "    eI = np.identity(x.shape[0]) * 10e-9\n",
    "    return np.diag((x**2))\n",
    "\n",
    "print(f\"f(x) = {f(x_0,c)}\")    \n",
    "print(f\"g(x) shape:  {(g(x_0,c)).shape}\")    \n",
    "print(f\"H(x) shape:  {(H(x_0,c)).shape}\")    "
   ]
  },
  {
   "cell_type": "code",
   "execution_count": 10,
   "metadata": {},
   "outputs": [
    {
     "name": "stdout",
     "output_type": "stream",
     "text": [
      "\n",
      "    Newtons Step completed in 14 iterations\n",
      "    Duality Gap f(x^*) - p^* = -1.1823431123048067e-11\n",
      "    KKT conditions satisfied with accuracy of 1.097135823504657e-06\n",
      "    \n"
     ]
    },
    {
     "data": {
      "text/plain": [
       "dict_keys(['x', 'f_x', 'g_x', 'H_x', 'dx', 'lambda_2', 'iter', 'nu'])"
      ]
     },
     "execution_count": 10,
     "metadata": {},
     "output_type": "execute_result"
    }
   ],
   "source": [
    "# Problem Parameters\n",
    "A, x_0, b, c = create_problem_params()\n",
    "\n",
    "# Backtracking parameters\n",
    "alpha = 0.1\n",
    "beta = 0.3\n",
    "\n",
    "# Stopping Criterion\n",
    "epsilon = 1e-8\n",
    "max_iter = 100\n",
    "\n",
    "\n",
    "def append_results(results, x, f_x, g_x, H_x, dx, lambda_2, iter, nu, gap = None):\n",
    "    results[\"x\"].append(x)\n",
    "    results[\"f_x\"].append(f_x)\n",
    "    results[\"g_x\"].append(g_x)\n",
    "    results[\"H_x\"].append(H_x)\n",
    "    results[\"dx\"].append(dx)\n",
    "    results[\"lambda_2\"].append(lambda_2)\n",
    "    results[\"iter\"].append(iter)\n",
    "    results[\"nu\"].append(nu)\n",
    "    if gap is not None:\n",
    "        results[\"gap\"].append(gap)\n",
    "\n",
    "def backtracking_line_search(x, dx, alpha, beta, c):\n",
    "    t = 1\n",
    "    while (f(x + t * dx,c) > f(x,c) + alpha * t * g(x,c).T @ dx) or np.isnan(f(x + t * dx,c)):\n",
    "        t *= beta\n",
    "        if t < 1e-20:\n",
    "            break\n",
    "    return t\n",
    "\n",
    "\n",
    "def newtons_centering_step(A, x_0, b, c, alpha, beta, epsilon, max_iter):\n",
    "    # Storing results\n",
    "    results = {\n",
    "        \"x\": [],\n",
    "        \"f_x\" : [],\n",
    "        \"g_x\" : [],\n",
    "        \"H_x\" : [],\n",
    "        \"dx\": [],\n",
    "        \"lambda_2\": [],\n",
    "        \"iter\": [],\n",
    "        \"nu\": [],\n",
    "    }\n",
    "    \n",
    "    # Givens\n",
    "    x = x_0\n",
    "    i = 0\n",
    "\n",
    "\n",
    "    while i <= max_iter:\n",
    "        x = np.maximum(x, 1e-8)\n",
    "        # Compute gradients and hessians\n",
    "        f_x = f(x, c)\n",
    "        g_x = g(x, c)\n",
    "        H_x = H(x, c)\n",
    "        H_x_inv = H_inv(x, c)\n",
    "        \n",
    "\n",
    "        # Compute Newton step and decrement\n",
    "        w = np.linalg.solve((A @ H_x_inv @ A.T), (-A @ H_x_inv @ g_x))\n",
    "        dx_nt = - H_x_inv @ (A.T @ w + g_x)\n",
    "        nt_dec_2 = - dx_nt.T @ g_x\n",
    "        \n",
    "        # Stopping Criterion\n",
    "        if nt_dec_2 / 2 <= epsilon:\n",
    "            break\n",
    "\n",
    "        # Line Search\n",
    "        t_search = backtracking_line_search(x, dx_nt, alpha, beta, c)\n",
    "        \n",
    "        # Update\n",
    "        x = x + t_search * dx_nt\n",
    "\n",
    "        # Iteration update\n",
    "        i += 1\n",
    "\n",
    "        # Append to results lists\n",
    "        append_results(results, x, f_x, g_x, H_x, dx_nt, nt_dec_2, i, w)\n",
    "\n",
    "    # Newton Complete Certificate\n",
    "    p_star = n + np.sum(np.log(np.maximum(c + A.T @ w,1e-9))) - w.T @ b\n",
    "    print(f\"\"\"\n",
    "    Newtons Step completed in {i} iterations\n",
    "    Duality Gap f(x^*) - p^* = {f(x,c) - p_star}\n",
    "    KKT conditions satisfied with accuracy of {np.linalg.norm(g(x,c) + w.T @ A,2)}\n",
    "    \"\"\")\n",
    "    return results\n",
    "\n",
    "my_results = newtons_centering_step(A, x_0, b, c, alpha, beta, epsilon, max_iter)\n",
    "my_results.keys()"
   ]
  },
  {
   "cell_type": "code",
   "execution_count": 11,
   "metadata": {},
   "outputs": [
    {
     "data": {
      "text/plain": [
       "Text(0.5, 1.0, 'Newton Decrement vs Iteration')"
      ]
     },
     "execution_count": 11,
     "metadata": {},
     "output_type": "execute_result"
    },
    {
     "data": {
      "image/png": "[encoded data removed]",
      "text/plain": [
       "<Figure size 640x480 with 1 Axes>"
      ]
     },
     "metadata": {},
     "output_type": "display_data"
    }
   ],
   "source": [
    "import matplotlib.pyplot as plt\n",
    "# Plotting the results\n",
    "\n",
    "plt.plot(my_results[\"iter\"], my_results[\"lambda_2\"])\n",
    "plt.yscale(\"log\")\n",
    "plt.ylabel(\"Newton Decrement: log($\\lambda^2 / 2 $)\")\n",
    "plt.xlabel(\"Iteration Step\")\n",
    "plt.title(\"Newton Decrement vs Iteration\")"
   ]
  },
  {
   "cell_type": "code",
   "execution_count": 12,
   "metadata": {},
   "outputs": [
    {
     "data": {
      "text/plain": [
       "Text(0.5, 1.0, 'f(x) vs Iteration')"
      ]
     },
     "execution_count": 12,
     "metadata": {},
     "output_type": "execute_result"
    },
    {
     "data": {
      "image/png": "[encoded data removed]",
      "text/plain": [
       "<Figure size 640x480 with 1 Axes>"
      ]
     },
     "metadata": {},
     "output_type": "display_data"
    }
   ],
   "source": [
    "plt.plot(my_results[\"iter\"], my_results[\"f_x\"])\n",
    "plt.yscale(\"log\")\n",
    "plt.ylabel(\"$f(x)$\")\n",
    "plt.xlabel(\"Iteration Step\")\n",
    "plt.title(\"f(x) vs Iteration\")"
   ]
  },
  {
   "cell_type": "markdown",
   "metadata": {},
   "source": [
    "### Feasible Start LP Solver\n",
    "Using the centering code from part (1),\n",
    "implement a barrier method to solve the standard form LP\n",
    "\\begin{align}\n",
    "    \\text{minimize} & \\quad c^\\top x \\\\\n",
    "    \\text{subject to} & \\quad Ax = b \\\\\n",
    "    & \\quad x \\succeq 0\n",
    "\\end{align}\n",
    "with variable $x$, given a strictly feasible starting point $x_0$. Your LP solver should\n",
    "take as argument $A, b, c,$ and $x_0$, and return $x^*$. <br> <br>\n",
    "You can terminate your barrier method when the duality gap, as measured by $n/t$,\n",
    "is smaller than $10^{-3}$. (If you make the tolerance much smaller, you might run into\n",
    "some numerical trouble.) Check your LP solver against the solution found by cvx, for\n",
    "several problem instances. <br> <br>\n",
    "The comments in part (1) on how to generate random data hold here too.\n",
    "Experiment with the parameter $\\mu$ to see the effect on the number of Newton steps per\n",
    "centering step, and the total number of Newton steps required to solve the problem. <br> <br>\n",
    "Plot the progress of the algorithm, for a problem instance with $n = 500$ and $m = 100$,\n",
    "showing duality gap (on a log scale) on the vertical axis, versus the cumulative total\n",
    "number of Newton steps (on a linear scale) on the horizontal axis. <br> <br>\n",
    "Your algorithm should return a $2 \\times k$ matrix history, (where k is the total number\n",
    "of centering steps), whose first row contains the number of Newton steps required\n",
    "for each centering step, and whose second row shows the duality gap at the end of\n",
    "each centering step. "
   ]
  },
  {
   "cell_type": "code",
   "execution_count": 13,
   "metadata": {},
   "outputs": [
    {
     "name": "stdout",
     "output_type": "stream",
     "text": [
      "\n",
      "    Newtons Step completed in 31 iterations\n",
      "    Duality Gap f(x^*) - p^* = 0.18354954371466192\n",
      "    KKT conditions satisfied with accuracy of 0.011276810272143079\n",
      "    \n",
      "\n",
      "    Newtons Step completed in 25 iterations\n",
      "    Duality Gap f(x^*) - p^* = 3.1258891696616047\n",
      "    KKT conditions satisfied with accuracy of 0.2823270319380346\n",
      "    \n",
      "\n",
      "    Newtons Step completed in 21 iterations\n",
      "    Duality Gap f(x^*) - p^* = 11.943084510756307\n",
      "    KKT conditions satisfied with accuracy of 1.0470987379723165\n",
      "    \n",
      "\n",
      "    Newtons Step completed in 6 iterations\n",
      "    Duality Gap f(x^*) - p^* = 94.76198037923314\n",
      "    KKT conditions satisfied with accuracy of 0.09674423363229981\n",
      "    \n",
      "\n",
      "    Newtons Step completed in 5 iterations\n",
      "    Duality Gap f(x^*) - p^* = 887.5940919183195\n",
      "    KKT conditions satisfied with accuracy of 783.4907889877137\n",
      "    \n",
      "\n",
      "    Newtons Step completed in 14 iterations\n",
      "    Duality Gap f(x^*) - p^* = 8544.13573282957\n",
      "    KKT conditions satisfied with accuracy of 2748.0952053804235\n",
      "    \n"
     ]
    }
   ],
   "source": [
    "# Problem Parameters\n",
    "A, x_0, b, c = create_problem_params()\n",
    "\n",
    "# Backtracking parameters\n",
    "alpha = 0.1\n",
    "beta = 0.3\n",
    "\n",
    "# Stopping Criterion\n",
    "epsilon_inner = 10e-6\n",
    "epsilon_outer = 10e-3\n",
    "max_iter = 100\n",
    "\n",
    "# Barrier Method Parameter\n",
    "mu = 10\n",
    "\n",
    "\n",
    "\n",
    "def newton_method_fs_lp(A, x_0, b, c, mu, alpha, beta, epsilon_inner, epsilon_outer, max_iter):\n",
    "    # Results\n",
    "    results = {\n",
    "        \"x\": [],\n",
    "        \"f_x\" : [],\n",
    "        \"g_x\" : [],\n",
    "        \"H_x\" : [],\n",
    "        \"dx\": [],\n",
    "        \"lambda_2\": [],\n",
    "        \"iter\": [],\n",
    "        \"nu\": [],\n",
    "        \"gap\": [],\n",
    "    }\n",
    "\n",
    "    # Initialize variables\n",
    "    x = np.maximum(x_0, 1e-8)\n",
    "    i = 0\n",
    "\n",
    "    # Initialize t\n",
    "    t = 1 # DO THIS MORE INTELLIGENTLY\n",
    "\n",
    "    while i <= max_iter:\n",
    "        # Centering step\n",
    "        inner_step_results = newtons_centering_step(A, x, b, c * t, alpha, beta, epsilon_inner, max_iter)\n",
    "        x_t = inner_step_results[\"x\"][-1]\n",
    "\n",
    "        # Updating x\n",
    "        x = x_t\n",
    "\n",
    "        gap = x.shape[0] / t\n",
    "        if gap <= epsilon_outer:\n",
    "            break\n",
    "\n",
    "        t *= mu\n",
    "\n",
    "        append_results(results, \n",
    "                       x, \n",
    "                       inner_step_results[\"f_x\"][-1] / t, \n",
    "                       inner_step_results[\"g_x\"][-1], \n",
    "                       inner_step_results[\"H_x\"][-1], \n",
    "                       inner_step_results[\"dx\"][-1],\n",
    "                       inner_step_results[\"lambda_2\"][-1],\n",
    "                       inner_step_results[\"iter\"][-1],\n",
    "                       inner_step_results[\"nu\"][-1],\n",
    "                       gap, \n",
    "                       )\n",
    "    \n",
    "    return results\n",
    "\n",
    "results = newton_method_fs_lp(A, x_0, b, c, mu, alpha, beta, epsilon_inner, epsilon_outer, max_iter)\n"
   ]
  },
  {
   "cell_type": "code",
   "execution_count": 7,
   "metadata": {},
   "outputs": [
    {
     "data": {
      "text/plain": [
       "Text(0.5, 1.0, 'Newton Decrement vs Iteration')"
      ]
     },
     "execution_count": 7,
     "metadata": {},
     "output_type": "execute_result"
    },
    {
     "data": {
      "image/png": "[encoded data removed]",
      "text/plain": [
       "<Figure size 640x480 with 1 Axes>"
      ]
     },
     "metadata": {},
     "output_type": "display_data"
    }
   ],
   "source": [
    "plt.step(np.cumsum(results['iter']), results['gap'], where='post')\n",
    "plt.yscale('log')\n",
    "plt.ylabel(\"Newton Decrement: log($\\lambda^2 / 2 $)\")\n",
    "plt.xlabel(\"Iteration Step\")\n",
    "plt.title(\"Newton Decrement vs Iteration\")"
   ]
  },
  {
   "cell_type": "markdown",
   "metadata": {},
   "source": [
    "### LP Solver\n",
    "Using the code from part (2), implement a general standard form LP\n",
    "solver, that takes arguments $A, b, c$, determines (strict) feasibility, and returns an\n",
    "optimal point if the problem is (strictly) feasible. <br> <br>\n",
    "You will need to implement a phase I method, that determines whether the problem\n",
    "is strictly feasible, and if so, finds a strictly feasible point, which can then be fed to\n",
    "the code from part (2). In fact, you can use the code from part (2) to implement the\n",
    "phase I method. <br> <br>\n",
    "To find a strictly feasible initial point x0, we solve the phase I problem\n",
    "\\begin{align}\n",
    "  \\text{minimize} & \\quad t \\\\\n",
    "  \\text{subject to} & \\quad Ax =b \\\\\n",
    "  & \\quad x \\succeq (1-t) \\textbf{1}, \\quad t \\geq 0\n",
    "\\end{align}\n",
    "with variables $x$ and $t$. If we can find a feasible $(x, t)$, with $t < 1$, then $x$ is strictly\n",
    "feasible for the original problem. The converse is also true, so the original LP is strictly\n",
    "feasible if and only if $t^* < 1$, where $t^*$\n",
    "is the optimal value of the phase I problem. <br> <br>\n",
    "We can initialize x and t for the phase I problem with any $x_0$\n",
    "satisfying $Ax_0 = b$, and $t^0 = 2 - \\min_i x_i^0$.(Here we can assume that $\\min x_i^0 \\leq 0$; otherwise $x^0$ is already a strictly feasible point, and we are done.)\n",
    "You can use a change of variable $z= x + (t - 1) \\textbf{1}$ to\n",
    "transform the phase I problem into the form in part (2). <br> <br>\n",
    "Check your LP solver against cvx on several numerical example s, including both feasible and infeasible instances."
   ]
  },
  {
   "cell_type": "code",
   "execution_count": 1,
   "metadata": {},
   "outputs": [
    {
     "name": "stdout",
     "output_type": "stream",
     "text": [
      "1.4808144628747194e-14\n",
      "\n",
      "        Newtons Step completed in 40 iterations\n",
      "        Duality Gap f(x^*) - p^* = 1.001561026339914\n",
      "        KKT conditions satisfied with accuracy of 1.1643392301630975e-10\n",
      "        \n",
      "\n",
      "        Newtons Step completed in 7 iterations\n",
      "        Duality Gap f(x^*) - p^* = 20.03402237562068\n",
      "        KKT conditions satisfied with accuracy of 4.871139768753869e-07\n",
      "        \n",
      "\n",
      "        Newtons Step completed in 7 iterations\n",
      "        Duality Gap f(x^*) - p^* = 401.11394757152186\n",
      "        KKT conditions satisfied with accuracy of 9.767866536066223e-06\n",
      "        \n",
      "\n",
      "        Newtons Step completed in 28 iterations\n",
      "        Duality Gap f(x^*) - p^* = -7981.158325462997\n",
      "        KKT conditions satisfied with accuracy of 1.7594747092940292e-07\n",
      "        \n",
      "\n",
      "        Newtons Step completed in 23 iterations\n",
      "        Duality Gap f(x^*) - p^* = -159623.16650925355\n",
      "        KKT conditions satisfied with accuracy of 0.010884923012613564\n",
      "        \n",
      "\n",
      "        Newtons Step completed in 19 iterations\n",
      "        Duality Gap f(x^*) - p^* = -3192463.3301850883\n",
      "        KKT conditions satisfied with accuracy of 0.007643459822076505\n",
      "        \n",
      "\n",
      "        Newtons Step completed in 15 iterations\n",
      "        Duality Gap f(x^*) - p^* = -63849266.603701726\n",
      "        KKT conditions satisfied with accuracy of 0.002295167116693543\n",
      "        \n",
      "\n",
      "    Problem is strictly feasible with t_star = 0.00\n",
      "        \n",
      "2291.6229547406474\n"
     ]
    },
    {
     "data": {
      "text/plain": [
       "[246.99718626772733,\n",
       " 199.1877586239311,\n",
       " 194.0090201972462,\n",
       " 193.60761398416227,\n",
       " 193.58042725773814,\n",
       " 193.57871354772928]"
      ]
     },
     "execution_count": 1,
     "metadata": {},
     "output_type": "execute_result"
    }
   ],
   "source": [
    "import numpy as np\n",
    "import matplotlib.pyplot as plt\n",
    "def create_problem_params(m=100,n=500, seed = None):\n",
    "    if seed is not None:\n",
    "        np.random.seed(seed)\n",
    "    A = np.random.randn(m-1,n) * 10\n",
    "    A = np.vstack((A, np.ones(n).reshape(1, -1)))\n",
    "    b = np.random.rand(m)\n",
    "    x_0 = np.linalg.lstsq(A, b, rcond=None)[0]\n",
    "    c = np.random.rand(n) * 20 + 5\n",
    "\n",
    "    return A, x_0, b, c\n",
    "\n",
    "import numpy as np\n",
    "def f(x:np.array, c:np.array):\n",
    "    x = np.maximum(x, 1e-8)\n",
    "    return c.T @ x - np.sum(np.log(x))\n",
    "\n",
    "def g(x:np.array, c:np.array):\n",
    "    return c - 1/x\n",
    "\n",
    "def H(x:np.array,c:np.array = None):\n",
    "    H = np.diag((x**(-2)))\n",
    "    eI = np.identity(x.shape[0]) * 1e-9\n",
    "    return H + eI\n",
    "\n",
    "def H_inv(x: np.array, c:np.array = None):\n",
    "    H_inv = np.diag((x**(2)))\n",
    "    eI = np.identity(x.shape[0]) * 1e-9\n",
    "    return H_inv + eI\n",
    "\n",
    "def append_results(results, x, f_x, g_x, H_x, dx, lambda_2, iter, nu, gap = None):\n",
    "    results[\"x\"].append(x)\n",
    "    results[\"f_x\"].append(f_x)\n",
    "    results[\"g_x\"].append(g_x)\n",
    "    results[\"H_x\"].append(H_x)\n",
    "    results[\"dx\"].append(dx)\n",
    "    results[\"lambda_2\"].append(lambda_2)\n",
    "    results[\"iter\"].append(iter)\n",
    "    results[\"nu\"].append(nu)\n",
    "    if gap is not None:\n",
    "        results[\"gap\"].append(gap)\n",
    "\n",
    "def backtracking_line_search(x, dx, alpha, beta, c, f_x, g_x):\n",
    "    t = 1\n",
    "    while (f(x + t * dx,c) > f_x + alpha * t * g_x.T @ dx) or np.isnan(f(x + t * dx,c)):\n",
    "        t *= beta\n",
    "        if t < 1e-20:\n",
    "            break\n",
    "    return t\n",
    "\n",
    "def newtons_centering_step(A, x_0, b, c, alpha, beta, epsilon, max_iter, verbose):\n",
    "    # Storing results\n",
    "    results = {\n",
    "        \"x\": [],\n",
    "        \"f_x\" : [],\n",
    "        \"g_x\" : [],\n",
    "        \"H_x\" : [],\n",
    "        \"dx\": [],\n",
    "        \"lambda_2\": [],\n",
    "        \"iter\": [],\n",
    "        \"nu\": [],\n",
    "    }\n",
    "    \n",
    "    # Givens\n",
    "    x = x_0\n",
    "    i = 0\n",
    "\n",
    "\n",
    "    while i <= max_iter:\n",
    "        x = np.maximum(x, 1e-8)\n",
    "        # Compute gradients and hessians\n",
    "        f_x = f(x, c)\n",
    "        g_x = g(x, c)\n",
    "        H_x = H(x, c)\n",
    "        H_x_inv = H_inv(x, c)\n",
    "        \n",
    "\n",
    "        # Compute Newton step and decrement\n",
    "        w = np.linalg.solve(A @ H_x_inv @ A.T, -A @ H_x_inv @ g_x)\n",
    "        dx_nt = - H_x_inv @ (A.T @ w + g_x)\n",
    "        nt_dec_2 = - dx_nt.T @ g_x\n",
    "        \n",
    "        # Stopping Criterion\n",
    "        if nt_dec_2 / 2 <= epsilon:\n",
    "            break\n",
    "\n",
    "        # Line Search\n",
    "        t_search = backtracking_line_search(x, dx_nt, alpha, beta, c, f_x, g_x)\n",
    "        \n",
    "        # Update\n",
    "        x = x + t_search * dx_nt\n",
    "\n",
    "        # Iteration update\n",
    "        i += 1\n",
    "\n",
    "        # Append to results lists\n",
    "        append_results(results, x, f_x, g_x, H_x, dx_nt, nt_dec_2, i, w)\n",
    "\n",
    "    # Newton Complete Certificate\n",
    "    p_star = x.shape[0] + np.sum(np.log(np.maximum(c + A.T @ w, 1e-9))) - w.T @ b  \n",
    "    if verbose:\n",
    "        print(f\"\"\"\n",
    "        Newtons Step completed in {i} iterations\n",
    "        Duality Gap f(x^*) - p^* = {f(x,c) - p_star}\n",
    "        KKT conditions satisfied with accuracy of {np.linalg.norm(g(x,c) + w.T @ A,2)}\n",
    "        \"\"\")\n",
    "    return results\n",
    "\n",
    "def newton_method_fs_lp(A, x_0, b, c, mu=20, alpha=0.1, beta=0.3, epsilon_inner=1e-8, epsilon_outer=1e-4, max_iter=100, verbose=False):\n",
    "    # Results\n",
    "    results = {\n",
    "        \"x\": [],\n",
    "        \"f_x\" : [],\n",
    "        \"g_x\" : [],\n",
    "        \"H_x\" : [],\n",
    "        \"dx\": [],\n",
    "        \"lambda_2\": [],\n",
    "        \"iter\": [],\n",
    "        \"nu\": [],\n",
    "        \"gap\": [],\n",
    "    }\n",
    "\n",
    "    # Initialize variables\n",
    "    x = np.maximum(x_0, 1e-8)\n",
    "    i = 0\n",
    "\n",
    "    # Initialize t\n",
    "    t = 1 # DO THIS MORE INTELLIGENTLY\n",
    "\n",
    "    while i <= max_iter:\n",
    "        # Centering step\n",
    "        inner_step_results = newtons_centering_step(A, x, b, c * t, alpha, beta, epsilon_inner, max_iter, verbose)\n",
    "        x_t = inner_step_results[\"x\"][-1]\n",
    "\n",
    "        # Updating x\n",
    "        x = x_t\n",
    "\n",
    "        gap = x.shape[0] / t\n",
    "        if gap <= epsilon_outer:\n",
    "            break\n",
    "\n",
    "        t *= mu\n",
    "\n",
    "        append_results(results, \n",
    "                       x, \n",
    "                       inner_step_results[\"f_x\"][-1] / t, \n",
    "                       inner_step_results[\"g_x\"][-1], \n",
    "                       inner_step_results[\"H_x\"][-1], \n",
    "                       inner_step_results[\"dx\"][-1],\n",
    "                       inner_step_results[\"lambda_2\"][-1],\n",
    "                       inner_step_results[\"iter\"][-1],\n",
    "                       inner_step_results[\"nu\"][-1],\n",
    "                       gap, \n",
    "                       )\n",
    "        \n",
    "        i += 1\n",
    "    \n",
    "    return results\n",
    "\n",
    "\n",
    "def phase_1_init(A, x_0, b, c,  mu=20, alpha=0.1, beta=0.3, epsilon_inner=1e-8, epsilon_outer=1e-4, max_iter=100, verbose = False):\n",
    "    # Problem Restructure\n",
    "    n = x_0.shape[0]\n",
    "    A_aug = np.c_[A, -A @ np.ones(n)]\n",
    "    b_aug = b - A @ np.ones(n)\n",
    "    t_0 =  2 + max(- np.min(x_0), 0)\n",
    "    c_aug = np.r_[np.zeros(n),1]\n",
    "    z = np.r_[x_0, t_0]\n",
    "\n",
    "    results = newton_method_fs_lp(A_aug, z, b_aug, c_aug, mu, alpha, beta, epsilon_inner, epsilon_outer, max_iter, True)\n",
    "\n",
    "    t_star = results[\"x\"][-1][-1]\n",
    "    x_star = results[\"x\"][-1][:-1] - np.ones(n) * t_star + np.ones(n)\n",
    "\n",
    "    if t_star > 1:\n",
    "        print(f\"\"\"\n",
    "        Problem is infeasible with t_star = {t_star:.2f}\n",
    "        \"\"\")\n",
    "        return None\n",
    "    else:\n",
    "        print(f\"\"\"\n",
    "    Problem is strictly feasible with t_star = {t_star:.2f}\n",
    "        \"\"\")\n",
    "\n",
    "    return x_star\n",
    "\n",
    "\n",
    "\n",
    "A, x_0, b, c = create_problem_params()\n",
    "print(np.linalg.norm(A @ x_0 - b, 2))\n",
    "\n",
    "x_0 = phase_1_init(A, x_0, b, c)\n",
    "\n",
    "print(np.linalg.norm(A @ x_0 - b, 2))\n",
    "\n",
    "# Phase 2 \n",
    "results = newton_method_fs_lp(A, x_0, b, c)\n",
    "\n",
    "results[\"f_x\"]"
   ]
  },
  {
   "cell_type": "code",
   "execution_count": null,
   "metadata": {},
   "outputs": [],
   "source": []
  },
  {
   "cell_type": "code",
   "execution_count": null,
   "metadata": {},
   "outputs": [],
   "source": []
  },
  {
   "cell_type": "code",
   "execution_count": 6,
   "metadata": {},
   "outputs": [
    {
     "data": {
      "text/plain": [
       "3.93789784998747e-08"
      ]
     },
     "execution_count": 6,
     "metadata": {},
     "output_type": "execute_result"
    }
   ],
   "source": [
    "results[\"x\"][-1][-1]"
   ]
  },
  {
   "cell_type": "code",
   "execution_count": 2,
   "metadata": {},
   "outputs": [
    {
     "name": "stdout",
     "output_type": "stream",
     "text": [
      "\n",
      "        Newtons Step completed in 12 iterations\n",
      "        Duality Gap f(x^*) - p^* = -52.08485670538266\n",
      "        KKT conditions satisfied with accuracy of 0.017392412892026678\n",
      "        \n",
      "\n",
      "        Newtons Step completed in 7 iterations\n",
      "        Duality Gap f(x^*) - p^* = -42.669870402231936\n",
      "        KKT conditions satisfied with accuracy of 0.0004285648432860331\n",
      "        \n",
      "\n",
      "        Newtons Step completed in 26 iterations\n",
      "        Duality Gap f(x^*) - p^* = 25.800005465625873\n",
      "        KKT conditions satisfied with accuracy of 0.5762705239652284\n",
      "        \n",
      "\n",
      "        Newtons Step completed in 101 iterations\n",
      "        Duality Gap f(x^*) - p^* = 378.1462025077053\n",
      "        KKT conditions satisfied with accuracy of 14278.207260262148\n",
      "        \n",
      "\n",
      "        Newtons Step completed in 101 iterations\n",
      "        Duality Gap f(x^*) - p^* = 8714.960092567839\n",
      "        KKT conditions satisfied with accuracy of 3853287.9390428746\n",
      "        \n",
      "\n",
      "        Newtons Step completed in 101 iterations\n",
      "        Duality Gap f(x^*) - p^* = 206836.24823648483\n",
      "        KKT conditions satisfied with accuracy of 481472655.22297126\n",
      "        \n",
      "\n",
      "        Newtons Step completed in 101 iterations\n",
      "        Duality Gap f(x^*) - p^* = 13686629.289368033\n",
      "        KKT conditions satisfied with accuracy of 15502853173.82193\n",
      "        \n"
     ]
    },
    {
     "data": {
      "text/plain": [
       "(13.038103118707859, 0.6427810479122757)"
      ]
     },
     "execution_count": 2,
     "metadata": {},
     "output_type": "execute_result"
    }
   ],
   "source": [
    "from newtons_method import newton_method_fs_lp, phase_1_init\n",
    "from parameters import create_problem_params\n",
    "from tests import cvx_lp, andy_lp\n",
    "\n",
    "A, x_0, b, c = create_problem_params(seed=42)\n",
    "\n",
    "prob_andy = newton_method_fs_lp(A, x_0, b, c,verbose=True)\n",
    "\n",
    "\n",
    "prob, x = cvx_lp(A, b, c)\n",
    "prob.value, prob_andy['f_x'][-1]"
   ]
  },
  {
   "cell_type": "code",
   "execution_count": 6,
   "metadata": {},
   "outputs": [
    {
     "data": {
      "text/plain": [
       "45.18172848923713"
      ]
     },
     "execution_count": 6,
     "metadata": {},
     "output_type": "execute_result"
    }
   ],
   "source": [
    "import numpy as np\n",
    "np.linalg.norm(x.value -prob_andy['x'][-1],2)"
   ]
  },
  {
   "cell_type": "code",
   "execution_count": null,
   "metadata": {},
   "outputs": [],
   "source": []
  }
 ],
 "metadata": {
  "kernelspec": {
   "display_name": "3.10.4",
   "language": "python",
   "name": "python3"
  },
  "language_info": {
   "codemirror_mode": {
    "name": "ipython",
    "version": 3
   },
   "file_extension": ".py",
   "mimetype": "text/x-python",
   "name": "python",
   "nbconvert_exporter": "python",
   "pygments_lexer": "ipython3",
   "version": "3.10.4"
  }
 },
 "nbformat": 4,
 "nbformat_minor": 2
}
