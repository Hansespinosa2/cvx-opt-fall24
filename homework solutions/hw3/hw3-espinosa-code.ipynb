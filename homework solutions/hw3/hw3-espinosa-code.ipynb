{
 "cells": [
  {
   "cell_type": "markdown",
   "metadata": {},
   "source": [
    "# Homework 3 Code For CVXPY Additional Problems"
   ]
  },
  {
   "cell_type": "code",
   "execution_count": 16,
   "metadata": {},
   "outputs": [],
   "source": [
    "import cvxpy as cp\n",
    "import numpy as np"
   ]
  },
  {
   "cell_type": "markdown",
   "metadata": {},
   "source": [
    "## Problem 1 - Exercise 4.4"
   ]
  },
  {
   "cell_type": "code",
   "execution_count": 57,
   "metadata": {},
   "outputs": [
    {
     "name": "stdout",
     "output_type": "stream",
     "text": [
      "Optimal Activity levels: [ 4.00000003 22.49999991 30.99999993  1.50000004]\n",
      "Optimal revenue: 192.4999998042132\n",
      "Revenue per activity: [ 11.99999996  32.49999988 138.99999975   9.00000022]\n",
      "Average Revenue per activity: [2.99999997 1.44444445 4.48387097 6.        ]\n"
     ]
    },
    {
     "data": {
      "text/plain": [
       "(array([ 4. , 10. ,  5. ,  1.5]), array([ 0. , 12.5, 26. , -0. ]))"
      ]
     },
     "execution_count": 57,
     "metadata": {},
     "output_type": "execute_result"
    }
   ],
   "source": [
    "#Finding the optimal activity level for exercise 4.17\n",
    "\n",
    "#Defining the problem's parameters \n",
    "A = np.array([[1,2,0,1], [0,0,3,1], [0,3,1,1], [2,1,2,5], [1,0,3,2]])\n",
    "c_max = np.array([100,100,100,100,100])\n",
    "p = np.array([3,2,7,6])\n",
    "p_disc = np.array([2,1,4,2])\n",
    "q = np.array([4,10,5,10]) \n",
    "\n",
    "#Decision variables\n",
    "x_under = cp.Variable(4)\n",
    "x_over = cp.Variable(4)\n",
    "\n",
    "#Opt problem\n",
    "obj = cp.Minimize(-(p.T @ x_under + p_disc.T @ x_over))\n",
    "constraints = [\n",
    "  x_under >= 0, \n",
    "  x_under <= q,\n",
    "  x_over >= 0, \n",
    "  x_under -q <= x_over, #Equal was a bad constraint\n",
    "  A @ (x_under + x_over) <= c_max\n",
    "]\n",
    "\n",
    "prob = cp.Problem(obj, constraints)\n",
    "\n",
    "\n",
    "f_opt = -prob.solve()\n",
    "x_opt = x_over.value + x_under.value\n",
    "rev_per_activity = cp.multiply(p.T,x_under.value).value + cp.multiply(p_disc.T, x_over.value).value\n",
    "avg_rev_per_activity = rev_per_activity / x_opt\n",
    "\n",
    "print(f\"Optimal Activity levels: {x_opt}\")\n",
    "print(f\"Optimal revenue: {f_opt}\")\n",
    "print(f\"Revenue per activity: {rev_per_activity}\")\n",
    "print(f\"Average Revenue per activity: {avg_rev_per_activity}\")\n",
    "np.round(x_under.value,2), np.round(x_over.value,2)\n"
   ]
  },
  {
   "cell_type": "markdown",
   "metadata": {},
   "source": [
    "Here the optimal activity levels are [4, 22.5, 31, 1.5] and it delivers a total revenue of 192.5. Checking if this solution is valid, we see that the constraints are satisfied as the optimal values are greater than zero and add up to incorporate the discount quantity. The objective function value is also correct as it is the sum of the revenue from each product.\n",
    "* 4 x 3 = 12\n",
    "* 10 x 2 + 12.5 x 1 = 32.5\n",
    "* 5 x 7 + 26 x 4 = 35 + 104 = 139\n",
    "* 1.5 x 6 = 9\n",
    "* Total = 12 + 32.5 + 139 + 9 = 44.5 + 148 = 192.5"
   ]
  },
  {
   "cell_type": "markdown",
   "metadata": {},
   "source": [
    "## Problem 2 - No longer in book but similar to 4.3"
   ]
  },
  {
   "cell_type": "code",
   "execution_count": 83,
   "metadata": {},
   "outputs": [],
   "source": [
    "#Set up\n",
    "x = cp.Variable(1)\n",
    "y = cp.Variable(1)\n",
    "z = cp.Variable(1)\n",
    "c = np.arange(1)\n",
    "\n",
    "obj = cp.Minimize(c @ x)"
   ]
  },
  {
   "cell_type": "markdown",
   "metadata": {},
   "source": [
    "####  Part a"
   ]
  },
  {
   "cell_type": "markdown",
   "metadata": {},
   "source": [
    "The constraint $\\| x+2y, x-y \\| = 0$ is the same as $\\sqrt{(x+2y)^2 + (x-y)^2} = 0$. This is only valid when $x+2y$ and $x-y$ both equal zero. If you solve that system of equations it gives you $x=0, y=0$. The original constraint is invalid because it is an equality constraint that is not affine."
   ]
  },
  {
   "cell_type": "code",
   "execution_count": 84,
   "metadata": {},
   "outputs": [
    {
     "data": {
      "text/plain": [
       "0.0"
      ]
     },
     "execution_count": 84,
     "metadata": {},
     "output_type": "execute_result"
    }
   ],
   "source": [
    "constraints = [x== 0, y==0]\n",
    "prob = cp.Problem(obj, constraints)\n",
    "\n",
    "f_opt = prob.solve()\n",
    "f_opt"
   ]
  },
  {
   "cell_type": "markdown",
   "metadata": {},
   "source": [
    "####  Part b"
   ]
  },
  {
   "cell_type": "markdown",
   "metadata": {},
   "source": [
    "The constraint $((x+y)^2)^2 \\leq x-y$ is invalid because the arguments of a square must be affine to ensure they preserve convexity. Distributing it to $(x+y)^4  - x + y\\leq 0$ makes it valid."
   ]
  },
  {
   "cell_type": "code",
   "execution_count": 85,
   "metadata": {},
   "outputs": [
    {
     "data": {
      "text/plain": [
       "0.0"
      ]
     },
     "execution_count": 85,
     "metadata": {},
     "output_type": "execute_result"
    }
   ],
   "source": [
    "constraints = [(x+y)**4 - x + y <= 0]\n",
    "prob = cp.Problem(obj, constraints)\n",
    "\n",
    "f_opt = prob.solve()\n",
    "f_opt"
   ]
  },
  {
   "cell_type": "markdown",
   "metadata": {},
   "source": [
    "####  Part c"
   ]
  },
  {
   "cell_type": "markdown",
   "metadata": {},
   "source": [
    "This one is just using the inv_pos function because it excludes zero from the domain."
   ]
  },
  {
   "cell_type": "code",
   "execution_count": 86,
   "metadata": {},
   "outputs": [
    {
     "data": {
      "text/plain": [
       "0.0"
      ]
     },
     "execution_count": 86,
     "metadata": {},
     "output_type": "execute_result"
    }
   ],
   "source": [
    "constraints = [cp.inv_pos(x) + cp.inv_pos(y) <= 1, x >= 0, y >= 0]\n",
    "prob = cp.Problem(obj, constraints)\n",
    "\n",
    "f_opt = prob.solve()\n",
    "f_opt"
   ]
  },
  {
   "cell_type": "markdown",
   "metadata": {},
   "source": [
    "####  Part d"
   ]
  },
  {
   "cell_type": "markdown",
   "metadata": {},
   "source": [
    "The constraint norm([ max( x , 1 ) , max( y , 2 ) ]) <= 3x + y is equal to $\\sqrt{max(x,1)^2 + max(y,2)^2} \\leq 3x + y$. The problem here is that the norm function needs to take in an affine argument. So we can make variables that are equal to the maximum of x and 1, and y and 2. Then we can use those variables in the norm function."
   ]
  },
  {
   "cell_type": "code",
   "execution_count": 114,
   "metadata": {},
   "outputs": [
    {
     "data": {
      "text/plain": [
       "0.0"
      ]
     },
     "execution_count": 114,
     "metadata": {},
     "output_type": "execute_result"
    }
   ],
   "source": [
    "u = cp.maximum(cp.vstack([x,1]),1)\n",
    "v = cp.maximum(cp.vstack([y,2],),1)\n",
    "constraints = [cp.norm(cp.vstack([u,v])) <= 3*x + y]\n",
    "prob = cp.Problem(obj, constraints)\n",
    "\n",
    "f_opt = prob.solve()\n",
    "f_opt"
   ]
  },
  {
   "cell_type": "markdown",
   "metadata": {},
   "source": [
    "####  Part e"
   ]
  },
  {
   "cell_type": "markdown",
   "metadata": {},
   "source": [
    "We can rearrange the problem so $\\frac{1}{y} - x \\leq 0$ and $x,y \\geq 0$."
   ]
  },
  {
   "cell_type": "code",
   "execution_count": 116,
   "metadata": {},
   "outputs": [
    {
     "data": {
      "text/plain": [
       "0.0"
      ]
     },
     "execution_count": 116,
     "metadata": {},
     "output_type": "execute_result"
    }
   ],
   "source": [
    "constraints = [cp.inv_pos(y) - x <= 0, x>= 0, y>= 0]\n",
    "prob = cp.Problem(obj, constraints)\n",
    "\n",
    "f_opt = prob.solve()\n",
    "f_opt"
   ]
  },
  {
   "cell_type": "markdown",
   "metadata": {},
   "source": [
    "####  Part f"
   ]
  },
  {
   "cell_type": "markdown",
   "metadata": {},
   "source": [
    "The constraint $\\frac{(x+y)^2}{\\sqrt{y}} \\leq x-y +5$ is convex because of the composition rules. The right hand side is affine and can be brought over"
   ]
  },
  {
   "cell_type": "code",
   "execution_count": 120,
   "metadata": {},
   "outputs": [
    {
     "data": {
      "text/plain": [
       "0.0"
      ]
     },
     "execution_count": 120,
     "metadata": {},
     "output_type": "execute_result"
    }
   ],
   "source": [
    "constraints = [ cp.quad_over_lin((x+y)**2,cp.sqrt(y)) - x + y - 5 <=0]\n",
    "prob = cp.Problem(obj, constraints)\n",
    "\n",
    "f_opt = prob.solve()\n",
    "f_opt"
   ]
  },
  {
   "cell_type": "markdown",
   "metadata": {},
   "source": [
    "####  Part g"
   ]
  },
  {
   "cell_type": "markdown",
   "metadata": {},
   "source": [
    "The constraint $x^3 + y^3<= 1, x>= 0 ,y >= 0$ fails because the left hand side is not convex. However, iti s on the interval $x>=0$ so we can use the power function"
   ]
  },
  {
   "cell_type": "code",
   "execution_count": 121,
   "metadata": {},
   "outputs": [
    {
     "data": {
      "text/plain": [
       "0.0"
      ]
     },
     "execution_count": 121,
     "metadata": {},
     "output_type": "execute_result"
    }
   ],
   "source": [
    "constraints = [cp.power(x,3) + cp.power(y,3) <= 1]\n",
    "prob = cp.Problem(obj, constraints)\n",
    "\n",
    "f_opt = prob.solve()\n",
    "f_opt"
   ]
  },
  {
   "cell_type": "markdown",
   "metadata": {},
   "source": [
    "####  Part h"
   ]
  },
  {
   "cell_type": "markdown",
   "metadata": {},
   "source": [
    "The constraint $x+z \\leq 1 + \\sqrt{x*y -z^2}, x\\geq 0, y \\geq 0 $ is not convex because of the square root. We can rearrange it to be $\\frac{(x+z-1)^2 +z^2}{y} - x \\leq 0$. This is a convex function since the numerator is convex, and the denominator is affine.  It can also be seen as the quad over lin for two terms and then affine in all three."
   ]
  },
  {
   "cell_type": "code",
   "execution_count": 122,
   "metadata": {},
   "outputs": [
    {
     "data": {
      "text/plain": [
       "0.0"
      ]
     },
     "execution_count": 122,
     "metadata": {},
     "output_type": "execute_result"
    }
   ],
   "source": [
    "constraints = [cp.quad_over_lin(x+z-1,y) + cp.quad_over_lin(z,y) -x <= 0, x>= 0, y>= 0]\n",
    "prob = cp.Problem(obj, constraints)\n",
    "\n",
    "f_opt = prob.solve()\n",
    "f_opt"
   ]
  },
  {
   "cell_type": "markdown",
   "metadata": {},
   "source": [
    "## Problem 3. Exercise 4.7"
   ]
  },
  {
   "cell_type": "markdown",
   "metadata": {},
   "source": [
    "#### Part a"
   ]
  },
  {
   "cell_type": "markdown",
   "metadata": {},
   "source": [
    "$e^{max|\\log a_i^T p - \\log I_{des} |}$. This is a convex because $I_{des}$ is a constant the minimum of concave functions is concave. The exponential function is convex and using composition rules, since the exponential is convex and non-increasing, and the inside function is concave, the function is convex."
   ]
  },
  {
   "cell_type": "markdown",
   "metadata": {},
   "source": []
  }
 ],
 "metadata": {
  "kernelspec": {
   "display_name": "Python 3",
   "language": "python",
   "name": "python3"
  },
  "language_info": {
   "codemirror_mode": {
    "name": "ipython",
    "version": 3
   },
   "file_extension": ".py",
   "mimetype": "text/x-python",
   "name": "python",
   "nbconvert_exporter": "python",
   "pygments_lexer": "ipython3",
   "version": "3.10.11"
  }
 },
 "nbformat": 4,
 "nbformat_minor": 2
}
