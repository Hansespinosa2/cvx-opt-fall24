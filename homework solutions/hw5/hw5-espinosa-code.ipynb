{
 "cells": [
  {
   "cell_type": "code",
   "execution_count": 8,
   "metadata": {},
   "outputs": [
    {
     "data": {
      "image/png": "[encoded data removed]",
      "text/plain": [
       "<Figure size 640x480 with 1 Axes>"
      ]
     },
     "metadata": {},
     "output_type": "display_data"
    }
   ],
   "source": [
    "import numpy as np\n",
    "\n",
    "import matplotlib.pyplot as plt\n",
    "\n",
    "# Define the vertices of the polyhedron\n",
    "vertices = np.array([[0, 1],[1,0], [5, 0], [5, 5], [0, 5],[0,1]])\n",
    "\n",
    "# Create the plot\n",
    "fig, ax = plt.subplots()\n",
    "ax.plot(vertices[:, 0], vertices[:, 1], 'bo-')  # Draw the polyhedron\n",
    "\n",
    "# Draw dots at each integer point\n",
    "for x in range(6):\n",
    "\tfor y in range(6):\n",
    "\t\tax.plot(x, y, 'ro')\n",
    "\n",
    "# Set the scale of the axes\n",
    "ax.set_xlim(-1, 6)\n",
    "ax.set_ylim(-1, 6)\n",
    "\n",
    "# Add grid\n",
    "ax.grid(True)\n",
    "\n",
    "# Add labels\n",
    "ax.set_xlabel('x')\n",
    "ax.set_ylabel('y')\n",
    "ax.set_title('Polyhedron with LP Relaxations')\n",
    "\n",
    "plt.savefig('lp_relaxed_polyhedron.png')\n",
    "plt.show()"
   ]
  },
  {
   "cell_type": "markdown",
   "metadata": {},
   "source": [
    "# Additional Problem 5.5"
   ]
  },
  {
   "cell_type": "markdown",
   "metadata": {},
   "source": [
    "## Part c"
   ]
  },
  {
   "cell_type": "code",
   "execution_count": 37,
   "metadata": {},
   "outputs": [
    {
     "name": "stdout",
     "output_type": "stream",
     "text": [
      "The optimal worst case profit is 3.4999999940788573\n",
      "The worst case profit if all qs are accepted is -5.0000000004228475\n",
      "Dual variables: [0.08899928 0.41100072 0.11154698 0.19945374 0.18899928]\n"
     ]
    }
   ],
   "source": [
    "import cvxpy as cp\n",
    "import numpy as np\n",
    "\n",
    "n = 5\n",
    "m = 5\n",
    "\n",
    "x = cp.Variable(n)\n",
    "z = cp.Variable()\n",
    "\n",
    "p = np.array([\n",
    "    0.50, 0.60, 0.60, 0.60, 0.20\n",
    "])\n",
    "\n",
    "q = np.array([\n",
    "    10, 5, 5, 20, 10\n",
    "])\n",
    "\n",
    "S = [\n",
    "    [1,2],\n",
    "    [4],\n",
    "    [1,4,5],\n",
    "    [2,5],\n",
    "    [3]\n",
    "]\n",
    "\n",
    "Z = np.zeros((m,n))\n",
    "\n",
    "for i, arr in enumerate(S):\n",
    "    for val in arr:\n",
    "        Z[val-1,i] = 1\n",
    "        \n",
    "\n",
    "constraints = [z * np.ones(n) >= Z @ x,\n",
    "               x >= 0,\n",
    "               x <= q]\n",
    "\n",
    "\n",
    "obj = cp.Maximize( p.T @ x - z)\n",
    "\n",
    "prob_wc = cp.Problem(obj, constraints)\n",
    "\n",
    "constraints_q = [z * np.ones(n) >= Z @ x,\n",
    "               x >= 0,\n",
    "               x == q]\n",
    "\n",
    "prob_q = cp.Problem(obj, constraints_q)\n",
    "\n",
    "print(f\"The optimal worst case profit is {prob_wc.solve()}\")\n",
    "print(f\"The worst case profit if all qs are accepted is {prob_q.solve()}\")\n",
    "print(f\"Dual variables: {constraints[0].dual_value}\")"
   ]
  },
  {
   "cell_type": "code",
   "execution_count": null,
   "metadata": {},
   "outputs": [],
   "source": []
  }
 ],
 "metadata": {
  "kernelspec": {
   "display_name": "Python 3",
   "language": "python",
   "name": "python3"
  },
  "language_info": {
   "codemirror_mode": {
    "name": "ipython",
    "version": 3
   },
   "file_extension": ".py",
   "mimetype": "text/x-python",
   "name": "python",
   "nbconvert_exporter": "python",
   "pygments_lexer": "ipython3",
   "version": "3.13.0"
  }
 },
 "nbformat": 4,
 "nbformat_minor": 2
}
