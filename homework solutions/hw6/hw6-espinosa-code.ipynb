{
 "cells": [
  {
   "cell_type": "markdown",
   "metadata": {},
   "source": [
    "# Homework 6"
   ]
  },
  {
   "cell_type": "markdown",
   "metadata": {},
   "source": [
    "## Additional Problem 6.2"
   ]
  },
  {
   "cell_type": "markdown",
   "metadata": {},
   "source": [
    "### Part b"
   ]
  },
  {
   "cell_type": "code",
   "execution_count": 1,
   "metadata": {},
   "outputs": [
    {
     "data": {
      "text/plain": [
       "array([[ 1., -1.,  0.,  0.,  0.,  0.,  0.,  0.,  0.,  0.],\n",
       "       [ 1.,  0., -1.,  0.,  0.,  0.,  0.,  0.,  0.,  0.],\n",
       "       [ 1.,  0.,  0., -1.,  0.,  0.,  0.,  0.,  0.,  0.],\n",
       "       [ 1.,  0.,  0.,  0., -1.,  0.,  0.,  0.,  0.,  0.],\n",
       "       [ 1.,  0.,  0.,  0.,  0., -1.,  0.,  0.,  0.,  0.],\n",
       "       [ 1.,  0.,  0.,  0.,  0.,  0., -1.,  0.,  0.,  0.],\n",
       "       [ 1.,  0.,  0.,  0.,  0.,  0.,  0., -1.,  0.,  0.],\n",
       "       [ 1.,  0.,  0.,  0.,  0.,  0.,  0.,  0., -1.,  0.],\n",
       "       [ 1.,  0.,  0.,  0.,  0.,  0.,  0.,  0.,  0., -1.],\n",
       "       [ 0., -1.,  1.,  0.,  0.,  0.,  0.,  0.,  0.,  0.],\n",
       "       [ 0., -1.,  0.,  1.,  0.,  0.,  0.,  0.,  0.,  0.],\n",
       "       [ 0., -1.,  0.,  0.,  1.,  0.,  0.,  0.,  0.,  0.],\n",
       "       [ 0., -1.,  0.,  0.,  0.,  1.,  0.,  0.,  0.,  0.],\n",
       "       [ 0., -1.,  0.,  0.,  0.,  0.,  1.,  0.,  0.,  0.],\n",
       "       [ 0., -1.,  0.,  0.,  0.,  0.,  0.,  1.,  0.,  0.],\n",
       "       [ 0., -1.,  0.,  0.,  0.,  0.,  0.,  0.,  1.,  0.],\n",
       "       [ 0., -1.,  0.,  0.,  0.,  0.,  0.,  0.,  0.,  1.],\n",
       "       [ 0.,  0.,  1., -1.,  0.,  0.,  0.,  0.,  0.,  0.],\n",
       "       [ 0.,  0., -1.,  0.,  1.,  0.,  0.,  0.,  0.,  0.],\n",
       "       [ 0.,  0., -1.,  0.,  0.,  1.,  0.,  0.,  0.,  0.],\n",
       "       [ 0.,  0.,  1.,  0.,  0.,  0., -1.,  0.,  0.,  0.],\n",
       "       [ 0.,  0.,  1.,  0.,  0.,  0.,  0., -1.,  0.,  0.],\n",
       "       [ 0.,  0.,  1.,  0.,  0.,  0.,  0.,  0., -1.,  0.],\n",
       "       [ 0.,  0.,  1.,  0.,  0.,  0.,  0.,  0.,  0., -1.],\n",
       "       [ 0.,  0.,  0., -1.,  1.,  0.,  0.,  0.,  0.,  0.],\n",
       "       [ 0.,  0.,  0., -1.,  0.,  1.,  0.,  0.,  0.,  0.],\n",
       "       [ 0.,  0.,  0.,  1.,  0.,  0., -1.,  0.,  0.,  0.],\n",
       "       [ 0.,  0.,  0.,  1.,  0.,  0.,  0., -1.,  0.,  0.],\n",
       "       [ 0.,  0.,  0., -1.,  0.,  0.,  0.,  0.,  1.,  0.],\n",
       "       [ 0.,  0.,  0., -1.,  0.,  0.,  0.,  0.,  0.,  1.],\n",
       "       [ 0.,  0.,  0.,  0.,  1., -1.,  0.,  0.,  0.,  0.],\n",
       "       [ 0.,  0.,  0.,  0.,  1.,  0., -1.,  0.,  0.,  0.],\n",
       "       [ 0.,  0.,  0.,  0.,  1.,  0.,  0., -1.,  0.,  0.],\n",
       "       [ 0.,  0.,  0.,  0., -1.,  0.,  0.,  0.,  1.,  0.],\n",
       "       [ 0.,  0.,  0.,  0.,  1.,  0.,  0.,  0.,  0., -1.],\n",
       "       [ 0.,  0.,  0.,  0.,  0.,  1., -1.,  0.,  0.,  0.],\n",
       "       [ 0.,  0.,  0.,  0.,  0.,  1.,  0., -1.,  0.,  0.],\n",
       "       [ 0.,  0.,  0.,  0.,  0., -1.,  0.,  0.,  1.,  0.],\n",
       "       [ 0.,  0.,  0.,  0.,  0., -1.,  0.,  0.,  0.,  1.],\n",
       "       [ 0.,  0.,  0.,  0.,  0.,  0.,  1., -1.,  0.,  0.],\n",
       "       [ 0.,  0.,  0.,  0.,  0.,  0.,  1.,  0., -1.,  0.],\n",
       "       [ 0.,  0.,  0.,  0.,  0.,  0., -1.,  0.,  0.,  1.],\n",
       "       [ 0.,  0.,  0.,  0.,  0.,  0.,  0., -1.,  1.,  0.],\n",
       "       [ 0.,  0.,  0.,  0.,  0.,  0.,  0., -1.,  0.,  1.],\n",
       "       [ 0.,  0.,  0.,  0.,  0.,  0.,  0.,  0.,  1., -1.]])"
      ]
     },
     "execution_count": 1,
     "metadata": {},
     "output_type": "execute_result"
    }
   ],
   "source": [
    "import numpy as np\n",
    "from team_data import n, m, m_test, sigma, train, test\n",
    "\n",
    "A = np.zeros((m,n))\n",
    "\n",
    "train_indexed = np.c_[train,np.arange(m)]\n",
    "\n",
    "A[train_indexed[:,3], train_indexed[:,0]-1] = train_indexed[:,2]\n",
    "A[train_indexed[:,3], train_indexed[:,1]-1] = -train_indexed[:,2]\n",
    "\n",
    "A"
   ]
  },
  {
   "cell_type": "code",
   "execution_count": 2,
   "metadata": {},
   "outputs": [
    {
     "name": "stdout",
     "output_type": "stream",
     "text": [
      "Optimal value: -11.430294646964967\n",
      "a_hat: [1.   0.   0.68 0.37 0.79 0.58 0.39 0.09 0.67 0.58]\n"
     ]
    }
   ],
   "source": [
    "import cvxpy as cp\n",
    "\n",
    "a = cp.Variable(n)\n",
    "obj = cp.Maximize(cp.sum( cp.log_normcdf((1/sigma) * A@ a)))\n",
    "\n",
    "constraints = [\n",
    "    a >= 0,\n",
    "    a <= 1\n",
    "]\n",
    "\n",
    "problem = cp.Problem(obj, constraints)\n",
    "p_star = problem.solve()\n",
    "a_hat = a.value\n",
    "print(f\"Optimal value: {p_star}\")\n",
    "print(f\"a_hat: {np.abs(np.round(a_hat,2)) }\")"
   ]
  },
  {
   "cell_type": "markdown",
   "metadata": {},
   "source": [
    "### Part c"
   ]
  },
  {
   "cell_type": "code",
   "execution_count": 3,
   "metadata": {},
   "outputs": [
    {
     "data": {
      "text/plain": [
       "array([[ 1,  2,  1],\n",
       "       [ 1,  3,  1],\n",
       "       [ 1,  4,  1],\n",
       "       [ 1,  5,  1],\n",
       "       [ 1,  6,  1],\n",
       "       [ 1,  7,  1],\n",
       "       [ 1,  8,  1],\n",
       "       [ 1,  9,  1],\n",
       "       [ 1, 10,  1],\n",
       "       [ 2,  3, -1],\n",
       "       [ 2,  4, -1],\n",
       "       [ 2,  5, -1],\n",
       "       [ 2,  6, -1],\n",
       "       [ 2,  7, -1],\n",
       "       [ 2,  8, -1],\n",
       "       [ 2,  9, -1],\n",
       "       [ 2, 10, -1],\n",
       "       [ 3,  4,  1],\n",
       "       [ 3,  5, -1],\n",
       "       [ 3,  6,  1],\n",
       "       [ 3,  7,  1],\n",
       "       [ 3,  8,  1],\n",
       "       [ 3,  9,  1],\n",
       "       [ 3, 10,  1],\n",
       "       [ 4,  5, -1],\n",
       "       [ 4,  6, -1],\n",
       "       [ 4,  7, -1],\n",
       "       [ 4,  8,  1],\n",
       "       [ 4,  9, -1],\n",
       "       [ 4, 10, -1],\n",
       "       [ 5,  6,  1],\n",
       "       [ 5,  7,  1],\n",
       "       [ 5,  8,  1],\n",
       "       [ 5,  9,  1],\n",
       "       [ 5, 10,  1],\n",
       "       [ 6,  7,  1],\n",
       "       [ 6,  8,  1],\n",
       "       [ 6,  9, -1],\n",
       "       [ 6, 10,  1],\n",
       "       [ 7,  8,  1],\n",
       "       [ 7,  9, -1],\n",
       "       [ 7, 10, -1],\n",
       "       [ 8,  9, -1],\n",
       "       [ 8, 10, -1],\n",
       "       [ 9, 10,  1]])"
      ]
     },
     "execution_count": 3,
     "metadata": {},
     "output_type": "execute_result"
    }
   ],
   "source": [
    "pred = test.copy()\n",
    "y_pred = np.sign(a_hat[pred[:,0] - 1] - a_hat[pred[:,1] - 1])\n",
    "pred[:,2] = y_pred\n",
    "pred"
   ]
  },
  {
   "cell_type": "code",
   "execution_count": 18,
   "metadata": {},
   "outputs": [
    {
     "name": "stdout",
     "output_type": "stream",
     "text": [
      "Optimization accuracy: 0.866667\n",
      "Last year accuracy: 0.755556\n",
      "Optimization for a_hat prediction results:\n",
      " [[15  2]\n",
      " [ 4 24]]\n",
      "Using last years results outcome: \n",
      " [[13  4]\n",
      " [ 7 21]]\n"
     ]
    }
   ],
   "source": [
    "from sklearn.metrics import confusion_matrix, accuracy_score\n",
    "y_test = test[:,2]\n",
    "\n",
    "print(f\"Optimization accuracy: {accuracy_score(y_test, y_pred):2f}\")\n",
    "print(f\"Last year accuracy: {accuracy_score(y_test, train[:,2]):2f}\")\n",
    "print(f\"Optimization for a_hat prediction results:\\n {confusion_matrix(y_test, y_pred)}\")\n",
    "print(f\"Using last years results outcome: \\n {confusion_matrix(y_test, train[:,2])}\")"
   ]
  },
  {
   "cell_type": "code",
   "execution_count": null,
   "metadata": {},
   "outputs": [],
   "source": []
  }
 ],
 "metadata": {
  "kernelspec": {
   "display_name": "3.10.4",
   "language": "python",
   "name": "python3"
  },
  "language_info": {
   "codemirror_mode": {
    "name": "ipython",
    "version": 3
   },
   "file_extension": ".py",
   "mimetype": "text/x-python",
   "name": "python",
   "nbconvert_exporter": "python",
   "pygments_lexer": "ipython3",
   "version": "3.10.4"
  }
 },
 "nbformat": 4,
 "nbformat_minor": 2
}
